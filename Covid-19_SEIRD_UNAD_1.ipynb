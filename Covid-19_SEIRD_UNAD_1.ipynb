{
  "nbformat": 4,
  "nbformat_minor": 0,
  "metadata": {
    "kernelspec": {
      "display_name": "Python 3",
      "language": "python",
      "name": "python3"
    },
    "language_info": {
      "codemirror_mode": {
        "name": "ipython",
        "version": 3
      },
      "file_extension": ".py",
      "mimetype": "text/x-python",
      "name": "python",
      "nbconvert_exporter": "python",
      "pygments_lexer": "ipython3",
      "version": "3.6.10"
    },
    "colab": {
      "name": "Copy of Covid-19-SEIRD_UNAD.ipynb",
      "provenance": []
    }
  },
  "cells": [
    {
      "cell_type": "markdown",
      "metadata": {
        "id": "V4EpJf8vyEmT",
        "colab_type": "text"
      },
      "source": [
        "<p float=\"center\">\n",
        "  <img src=https://informacion.unad.edu.co/images/acerca%20de%20la%20unad/simbolos/logo_vertical.png width=\"300\" />\n",
        "</p>\n",
        "\n",
        "<font size=3 color=\"midnightblue\" face=\"arial\">\n",
        "<h1 align=\"center\">Escuela de Ciencias Básicas, Tecnología e Ingeniería</h1>\n",
        "</font>\n",
        "\n",
        "<font size=3 color=\"navy\" face=\"arial\">\n",
        "<h1 align=\"center\">ECBTI</h1>\n",
        "</font>\n",
        "\n",
        "<font size=2 color=\"darkorange\" face=\"arial\">\n",
        "<h1 align=\"center\">¿Usted sabe por qué debe mantener la distancia social recomendada de personas con síntomas de la COVID-19? !Venga le cuento!</h1>\n",
        "</font>\n",
        "\n",
        "<font size=2 color=\"midnightblue\" face=\"arial\">\n",
        "<h1 align=\"center\">Equipo de Trabajo en Ciencia de Datos - UNAD</h1>\n",
        "</font>\n",
        "\n",
        "<font size=2 color=\"midnightblue\" face=\"arial\">\n",
        "<h1 align=\"center\">Expositores: Carlos Alvarez - Jeinny Peralta - Tatiana Sánchez</h1>\n",
        "</font>\n",
        "\n",
        "<font size=1 color=\"darkorange\" face=\"arial\">\n",
        "<h1 align=\"center\">Abril 21 de 2020</h1>\n",
        "</font>\n",
        "\n"
      ]
    },
    {
      "cell_type": "markdown",
      "metadata": {
        "id": "RSdLLLXTyEmq",
        "colab_type": "text"
      },
      "source": [
        "# Modelo matemático y computacional para predecir el comportamiento de la Covid-19\n",
        "\n",
        "## Distanciamiento social como estrategia para ralentizar la propagación\n",
        "\n",
        "***Nota:*** basado en los artículos publicados en las páginas web:\n",
        "\n",
        "- [Social Distancing to Slow the Coronavirus -  Modeling the flattening of the COVID-19 peaks](https://towardsdatascience.com/social-distancing-to-slow-the-coronavirus-768292f04296 \"Towardsdatascience\"): By Christian Hubbs, in Towardsdatascience.com, Mar 12, 2020\n",
        "\n",
        "\n",
        "- [Why outbreaks like coronavirus spread exponentially, and how to “flatten the curve”](https://www.washingtonpost.com/graphics/2020/world/corona-simulator/): By Harry Stevens, in The Washington Post, Mar 14, 2020\n",
        "\n",
        "\n",
        "- [Infectious Disease Modelling: Understanding the models that are used to model Coronavirus](https://towardsdatascience.com/infectious-disease-modelling-part-i-understanding-sir-28d60e29fdfc): By Henri Froese, in Towardsdatascience.com, Apr 06,2020\n",
        "\n",
        "\n",
        "- [Infectious Disease Modelling: Beyond the Basic SIR Model](https://towardsdatascience.com/infectious-disease-modelling-part-i-understanding-sir-28d60e29fdfc): By Henri Froese, in Towardsdatascience.com, Apr 11,2020 "
      ]
    },
    {
      "cell_type": "markdown",
      "metadata": {
        "id": "V2FFyEmvyEmr",
        "colab_type": "text"
      },
      "source": [
        "# Contextualización\n",
        "\n",
        "Como es de ámplio conocimiento de todos hoy en día, la Covid-19 ha crecido rápidamente en todo el mundo. La gran mayoría de paises han tomado medidas drásticas frente a la movilidad de sus ciudadanos. Estas medidas se toman con la intención de retrasar la propagación (no detenerla) de la enfermedad. Este tipo de estrategia se denomina *Distanciamiento Social*.\n",
        "\n",
        "La idea detrás de esta política de salud pública es reducir el contacto *persona-a-persona* para que sea menos probable la propagación de la enfermedad y la capacidad de los sistemas de salud local no se saturen, ayudando a garantizar la adecuada atención a la población enferma y disminyendo la cantidad de decesos. Los efectos de una política en este sentido se pueden observar en la siguiente gráfica."
      ]
    },
    {
      "cell_type": "markdown",
      "metadata": {
        "id": "uFx96YZRyEmr",
        "colab_type": "text"
      },
      "source": [
        "![Aplanar la curva](https://miro.medium.com/max/700/1*pVVK99mWB21izaNiDVlgOg.gif)"
      ]
    },
    {
      "cell_type": "markdown",
      "metadata": {
        "id": "aaXX_Ud7yEmU",
        "colab_type": "text"
      },
      "source": [
        "# Distanciamiento social - Definición\n",
        "\n",
        "“Conjunto de medidas no farmacéuticas de control de infecciones, con el objetivo de detener o desacelerar la propagación de una enfermedad contagiosa.” "
      ]
    },
    {
      "cell_type": "markdown",
      "metadata": {
        "id": "1KZPIPj-yEmY",
        "colab_type": "text"
      },
      "source": [
        "<p float=\"center\">\n",
        "  <img src=https://upload.wikimedia.org/wikipedia/commons/6/66/Social_distancing_queueing_for_the_supermarket_J._Sainsbury%27s_north_London_Coronavirus_Covid_19_pandemic_-_30_March_2020.jpg width=\"750\" />\n",
        "</p>"
      ]
    },
    {
      "cell_type": "markdown",
      "metadata": {
        "id": "PGBT9lqFyEmY",
        "colab_type": "text"
      },
      "source": [
        "<p float=\"center\">\n",
        "  <img src=https://upload.wikimedia.org/wikipedia/commons/f/fd/03.05_%E7%B8%BD%E7%B5%B1%E6%8E%A5%E8%A6%8B%E7%BE%8E%E5%9C%8B%E5%9C%A8%E8%87%BA%E5%8D%94%E6%9C%83%28AIT%29%E4%B8%BB%E5%B8%AD%E8%8E%AB%E5%81%A5.jpg width=\"250\" />\n",
        "</p>"
      ]
    },
    {
      "cell_type": "markdown",
      "metadata": {
        "id": "p6DonDWByEmZ",
        "colab_type": "text"
      },
      "source": [
        "<p float=\"left\">\n",
        "  <img src=https://raw.githubusercontent.com/carlosalvarezh/Covid-19-SEIRD/master/DistSocial03.png width=\"1000\" /> \n",
        "</p>"
      ]
    },
    {
      "cell_type": "markdown",
      "metadata": {
        "id": "R8A1clJ_yEma",
        "colab_type": "text"
      },
      "source": [
        "# Distanciamiento social - Definición\n",
        "\n",
        "***Levítico, 13:46:*** \n",
        "\n",
        "<font size=1 color=\"black\" face=\"arial\">\n",
        "<h1 align=\"center\">“Todo el tiempo que la llaga estuviere en él, será inmundo; estará impuro, y habitará solo; fuera del campamento será su morada.”</h1>\n",
        "</font>\n",
        "\n",
        "\n",
        "\n",
        "\n",
        "Se han establecido colonias de leprosos y lazaretos como medios para impedir la transmisión de la lepra y otras enfermedades infecciosas."
      ]
    },
    {
      "cell_type": "markdown",
      "metadata": {
        "id": "up9w5LiuyEmb",
        "colab_type": "text"
      },
      "source": [
        "***Lazareto - Ancona, Italia, 1700's***\n",
        "\n",
        "<p float=\"center\">\n",
        "  <img src=https://upload.wikimedia.org/wikipedia/commons/6/6d/Mole2.JPG width=\"500\" />\n",
        "</p>"
      ]
    },
    {
      "cell_type": "markdown",
      "metadata": {
        "id": "sVHJvAWhyEmi",
        "colab_type": "text"
      },
      "source": [
        "***Agua de Dios, Colombia, 1870's***\n",
        "<p float=\"center\">\n",
        "  <img src=https://upload.wikimedia.org/wikipedia/commons/thumb/3/39/Colombia_-_Cundinamarca_-_Agua_de_Dios.svg/800px-Colombia_-_Cundinamarca_-_Agua_de_Dios.svg.png width=\"500\" />\n",
        "</p>"
      ]
    },
    {
      "cell_type": "markdown",
      "metadata": {
        "id": "caW52PM7yEms",
        "colab_type": "text"
      },
      "source": [
        "# Modelos matemáticos\n",
        "\n",
        "Los modelos matemáticos son aproximaciones, bien sustentadas y justificadas, de la realidad y en este contexto intentan brindar elementos a la toma de decisiones de políticas públicas para intentan aplanar la curva de propagación de la enfermedad."
      ]
    },
    {
      "cell_type": "markdown",
      "metadata": {
        "id": "15DGoz08yEmi",
        "colab_type": "text"
      },
      "source": [
        "# Simulación física de dispersión de gotículas\n",
        "\n",
        "Veamos primer una serie de simulaciones computacionales de la dispersión de partículas producto de la tos humana empleando técnicas de la [CFD](https://en.wikipedia.org/wiki/Computational_fluid_dynamics \"CFD\") (Dinámica de Fluidos Computaconal) y empleando un software comercial"
      ]
    },
    {
      "cell_type": "code",
      "metadata": {
        "id": "tYr8H9fMyEmj",
        "colab_type": "code",
        "outputId": "ccca9ca3-2cf8-4361-fd74-c73f92cd1b9a",
        "colab": {
          "base_uri": "https://localhost:8080/",
          "height": 521
        }
      },
      "source": [
        "from IPython.display import IFrame\n",
        "\n",
        "URL = 'https://www.ansys.com/about-ansys/covid-19-simulation-insights'\n",
        "IFrame(src = URL, width = 980, height = 500)"
      ],
      "execution_count": 0,
      "outputs": [
        {
          "output_type": "execute_result",
          "data": {
            "text/html": [
              "\n",
              "        <iframe\n",
              "            width=\"980\"\n",
              "            height=\"500\"\n",
              "            src=\"https://www.ansys.com/about-ansys/covid-19-simulation-insights\"\n",
              "            frameborder=\"0\"\n",
              "            allowfullscreen\n",
              "        ></iframe>\n",
              "        "
            ],
            "text/plain": [
              "<IPython.lib.display.IFrame at 0x7f3226976668>"
            ]
          },
          "metadata": {
            "tags": []
          },
          "execution_count": 15
        }
      ]
    },
    {
      "cell_type": "code",
      "metadata": {
        "id": "fEeny9qjyEms",
        "colab_type": "code",
        "outputId": "fb045109-c371-4996-ab81-ba5d71842046",
        "colab": {
          "base_uri": "https://localhost:8080/",
          "height": 621
        }
      },
      "source": [
        "URL = 'https://www.washingtonpost.com/graphics/2020/world/corona-simulator-spanish/'\n",
        "IFrame(src = URL, width = 980, height = 600)"
      ],
      "execution_count": 0,
      "outputs": [
        {
          "output_type": "execute_result",
          "data": {
            "text/html": [
              "\n",
              "        <iframe\n",
              "            width=\"980\"\n",
              "            height=\"600\"\n",
              "            src=\"https://www.washingtonpost.com/graphics/2020/world/corona-simulator-spanish/\"\n",
              "            frameborder=\"0\"\n",
              "            allowfullscreen\n",
              "        ></iframe>\n",
              "        "
            ],
            "text/plain": [
              "<IPython.lib.display.IFrame at 0x7fd683da15c0>"
            ]
          },
          "metadata": {
            "tags": []
          },
          "execution_count": 13
        }
      ]
    },
    {
      "cell_type": "markdown",
      "metadata": {
        "id": "bLhfX-QQyEmv",
        "colab_type": "text"
      },
      "source": [
        "# Modelo S.I.R\n",
        "\n",
        "Es una representación simplificada de la propagación entre miembros de una población de enfermedades contagiosas.  \n",
        "\n",
        "El modelo SIR es un modelo comportamental, es decir separa una población en diferentes grupos de acuerdo a sus comportamientos:\n",
        "\n",
        "- **S**usceptible (que puede ser futuramente infectado, \"sano\")\n",
        "\n",
        "\n",
        "- **I**nfectado\n",
        "\n",
        "\n",
        "- **R**ecuperado (ha sido infectado y no volverá a infectarse)\n",
        "\n",
        "Para definir las variables involucradas en este simple modelo veamos el siguiente ejemplo."
      ]
    },
    {
      "cell_type": "markdown",
      "metadata": {
        "id": "ymFrJx1myEmw",
        "colab_type": "text"
      },
      "source": [
        "## Ejemplo\n",
        "\n",
        "Consideremos una población de $1000$ habitantes ($N=1000$), además, consideremos que han pasado $7$ días después del brote de la epidemia. Para este instante, se sabe que $400$ de ellas están infectadas y $50$ se han recuperado, lo anterior puede ser denotado como:\n",
        " \n",
        "*   $S(7) = 550$ (considerando que toda la población es susceptible al inicio de la pandemia).\n",
        "*   $I(7) = 400$.\n",
        "*   $R(7) = 50$.\n",
        "\n",
        "\n",
        "Para esta enfermedad consideremos que la probabilidad de que una persona infectada contagie a una persona sana es del $20\\%$, y supongamos que el número promedio de personas con las que una persona está en contacto por día es de $5$. Entonces, por día, un individuo infectado se encuentra con $5$ personas resultando infectadas el $20\\%$ de ellas, es decir, la persona enferma infectará a $1$ persona por día. Esto es denotado con el parámetro $\\beta$, que es la cantidad esperada de personas que una persona infectada contagia por día.\n",
        "\n",
        "Sea $D$ la cantidad de días que una persona puede transmitir la enfermedad, este dato es extremadamente importante. Si $D = 5$, una persona infectada camina durante cinco días propagando la enfermedad e infecta a $1$ persona por día ($\\beta = 1$). Entonces, esperamos que una persona infectada infecte a $5$ personas más. Este es el número de reproducción básico, $R_0$, que representa el número total de personas que infecta una persona infectada, es decir, $R_0=\\beta \\times D$.\n",
        "\n",
        "Si se piensa en $D$ como el número de días que una persona infectada tiene la enfermedad, entonces se puede pensar en otro parámetro $\\gamma$, como la tasa de recuperación, o la proporción de infectados que se recuperan por día. Por ejemplo, si se tienen actualmente $400$ personas infectadas y $D=5$, entonces, por día $1/5$ de ellas se recuperarán (aproximadamente $80$ personas), es decir, $\\gamma=1/5$. Siendo $\\gamma=1/D$, entonces $D=1/\\gamma$ y $R_0=\\beta \\times D$, se deduce que $R_0=\\beta / \\gamma$."
      ]
    },
    {
      "cell_type": "markdown",
      "metadata": {
        "id": "hJ-MHkpEyEmw",
        "colab_type": "text"
      },
      "source": [
        "Resumiendo, las variables involucradas en el ejemplo anterior son:\n",
        "\n",
        "- $N$: Total de la población\n",
        "\n",
        "\n",
        "- $S(t)$: Número de personas susceptibles de ser infectadas en un día $t$\n",
        "\n",
        "\n",
        "- $I(t)$: Número de personas infectadas en un día $t$\n",
        "\n",
        "\n",
        "- $R(t)$: Número de personas recuperadas en un día $t$\n",
        "\n",
        "\n",
        "\n",
        "- $\\beta$: Cantidad esperada de personas que una persona infectada infecta por día\n",
        "\n",
        "\n",
        "- $D$: Número de días que una persona infectada tiene y puede transmitir la enfermedad\n",
        "\n",
        "\n",
        "- $\\gamma$: Proporción de infectados recuperados por día ($\\gamma = 1/D$)\n",
        "\n",
        "\n",
        "\n",
        "- $R_0$: Número total de personas infectadas por una persona infectada ($R_0=\\beta / \\gamma$)\n",
        "\n",
        "\n"
      ]
    },
    {
      "cell_type": "markdown",
      "metadata": {
        "id": "0-JOyAQsyEmx",
        "colab_type": "text"
      },
      "source": [
        "# Derivación de las ecuaciones\n",
        "\n",
        "Deseamos determinar el número de *infectados*, *susceptibles* y *recuperados* para todos los días, dados únicamente los parámetros $\\gamma$, $\\beta$ y $N$. Es difícil obtener una fórmula directa para $S(t)$, $I(t)$ y $R(t)$, sin embargo, es muy simple describir el cambio por día de $S$, $I$ y $R$, es decir, como cambia el número de *susceptibles* / *infectados* / *recuperados* dependiendo de los actuales valores.\n",
        "\n",
        "Ahora estamos en el día $t$ después del brote de la enfermedad. Aún así, la cantidad esperada de personas que una persona infectada infecta por día es $1$ ($\\beta = 1$) y el número de días que una persona infectada tiene y puede transmitir la enfermedad es $5$ ($\\gamma =1/5$ y $D=5$).\n",
        "\n",
        "En el día $t=7$, tenemos los datos dados anteriormente,  ¿cómo cambian $S(t)$, $I(t)$ y $R(t)$ al día siguiente?\n",
        "\n",
        "Se tienen $400$ personas infectadas. Cada uno de ellos infecta a $\\beta = 1$ persona por día. Sin embargo, solo $550/1000 = 55\\%$ de las personas todavía son susceptibles y pueden infectarse (eso es $S(t) / N$). Entonces, infectan a $400 \\times 1 \\times 55/1000 = 22$.  Entonces, $22$ personas de los susceptibles se infectan, por lo que $S(t)$ cambia en menos $22$. Al conectar las variables, acabamos de derivar la primera fórmula:\n",
        "\n",
        "$$\\text{cambio de } S(t) \\text{ al día siguiente } = -\\beta \\cdot I(t) \\cdot S(t) / N$$\n",
        "\n",
        "Lo anterior es la expresión de la deriva, $S'(t) = dS/dt$, y reescribiendo\n",
        "\n",
        "$$S'(t) = dS(t)/dt = -\\beta \\cdot I(t) \\cdot S(t) / N$$"
      ]
    },
    {
      "cell_type": "markdown",
      "metadata": {
        "id": "dfJ2wrdQyEmx",
        "colab_type": "text"
      },
      "source": [
        "Ahora, ¿cómo cambia la cantidad de infectados? hay algunas personas nuevas infectadas. Exactamente la cantidad de personas que \"*salen*\" de $S(t)$ \"*llegan*\" a $I(t)$. Entonces, tenemos $22$ nuevos infectados y ya sabemos que la fórmula será similar a esta: $I'(t)= + \\beta \\cdot I(t) \\cdot S(t) / N$ (se gana la cantidad exacta que $S(t)$ pierde, por lo que simplementese cambia el signo). Solo falta una cosa: algunas personas se recuperan. Recuerde, tenemos $\\gamma$ para eso, es la proporción de infectados que se recuperan por día, ¡eso es justo lo que necesitamos!\n",
        "\n",
        "Tenemos $400$ infectados y $\\gamma = 1/5$, por lo que un quinto de los $400$ se recupera. Eso es $1/5 \\cdot 400 = 80$. Finalmente, obtenemos la fórmula:\n",
        "\n",
        "$$I'(t) = dI(t)/dt = \\beta \\cdot I(t) \\cdot S(t) / N - \\gamma \\cdot I(t)$$\n",
        "\n",
        "El primer término del lado derecho de la ecuación es el recién infectado de los susceptibles. La segunda parte son las recuperaciones.\n",
        "\n",
        "Finalmente, llegamos a la última fórmula, el cambio en las recuperaciones. Los recién recuperados son exactamente los $80$ que acabamos de calcular; no hay personas saliendo del compartimento \"*recuperado*\". Se asume que una vez recuperados, permanecen inmunes:\n",
        "\n",
        "$$R'(t) = dR(t)/dt = \\gamma \\cdot I(t)$$"
      ]
    },
    {
      "cell_type": "markdown",
      "metadata": {
        "id": "ORI69z4DyEmy",
        "colab_type": "text"
      },
      "source": [
        "Ya contamos con las fórmulas que se buscaban:\n",
        "\n",
        "$$\n",
        "\\begin{align}\n",
        "\\frac{dS}{dt} & = -\\beta \\cdot I \\cdot \\frac{S}{N} \\\\\n",
        "\\frac{dI}{dt} & = \\beta \\cdot I \\cdot \\frac{S}{N} - \\gamma \\cdot I \\\\\n",
        "\\frac{dR}{dt} & = \\gamma \\cdot I\n",
        "\\end{align}\n",
        "$$\n",
        "\n",
        "Este es un conjunto de Ecuaciones Diferenciales Ordinarias (ODEs).\n",
        "\n",
        "Ahora podemos describir el cambio en el número de personas *susceptibles*, *infectadas* y *recuperadas*. A partir de estas fórmulas, afortunadamente, podemos calcular los números que realmente nos interesan: $S(t)$, $I(t)$ y $R(t)$, el número de personas *susceptibles*, *infectadas* y *recuperadas* por cada día $t$."
      ]
    },
    {
      "cell_type": "markdown",
      "metadata": {
        "id": "ajfb52qsyEmy",
        "colab_type": "text"
      },
      "source": [
        "# Codificando el modelo\n",
        "\n",
        "Ahora vamos a codificar las ecuaciones. Se emplearán los códigos implementados en [Infectious Disease Modelling: Understanding the models that are used to model Coronavirus](https://towardsdatascience.com/infectious-disease-modelling-part-i-understanding-sir-28d60e29fdfc): By Henri Froese, in Towardsdatascience.com, Apr 06, 2020. El código completo lo pueden descargar de [su sitio en GitHub](https://github.com/hf2000510/infectious_disease_modelling)."
      ]
    },
    {
      "cell_type": "markdown",
      "metadata": {
        "id": "yr6x0ueYyEmy",
        "colab_type": "text"
      },
      "source": [
        "Inicialmente se definiran los parámetros $N$, $\\beta$, $D$, $\\gamma$, y las condiciones iniciales, en $t=0$, para $S(t)$, $I(t)$ y  $R_0(t)$. "
      ]
    },
    {
      "cell_type": "code",
      "metadata": {
        "id": "uXHeEaFmyEmz",
        "colab_type": "code",
        "colab": {}
      },
      "source": [
        "import numpy as np\n",
        "from scipy.integrate import odeint\n",
        "import matplotlib.pyplot as plt"
      ],
      "execution_count": 0,
      "outputs": []
    },
    {
      "cell_type": "markdown",
      "metadata": {
        "id": "j3CG9HxzyEm7",
        "colab_type": "text"
      },
      "source": [
        "Ahora se implementarán las fórmulas determinadas"
      ]
    },
    {
      "cell_type": "code",
      "metadata": {
        "id": "CaY5yuBsyEm7",
        "colab_type": "code",
        "colab": {}
      },
      "source": [
        "def deriv(y, t, N, beta, gamma):\n",
        "    S, I, R = y\n",
        "    dSdt = -beta * S * I / N\n",
        "    dIdt = beta * S * I / N - gamma * I\n",
        "    dRdt = gamma * I\n",
        "    return dSdt, dIdt, dRdt"
      ],
      "execution_count": 0,
      "outputs": []
    },
    {
      "cell_type": "code",
      "metadata": {
        "id": "SmFGm8hWyEnA",
        "colab_type": "code",
        "colab": {}
      },
      "source": [
        "def plotsir(t, S, I, R):\n",
        "    f, ax = plt.subplots(1,1,figsize=(10,4))\n",
        "    ax.plot(t, S, 'b', alpha=0.7, linewidth=2, label='Susceptible')\n",
        "    ax.plot(t, I, 'y', alpha=0.7, linewidth=2, label='Infected')\n",
        "    ax.plot(t, R, 'g', alpha=0.7, linewidth=2, label='Recovered')\n",
        "    \n",
        "    ax.set_xlabel('Time (days)')\n",
        "    \n",
        "    ax.yaxis.set_tick_params(length=0)\n",
        "    ax.xaxis.set_tick_params(length=0)\n",
        "    ax.grid(b=True, which='major', c='w', lw=2, ls='-')\n",
        "    legend = ax.legend()\n",
        "    legend.get_frame().set_alpha(0.5)\n",
        "    for spine in ('top', 'right', 'bottom', 'left'):\n",
        "        ax.spines[spine].set_visible(False)\n",
        "    plt.show();\n",
        "    "
      ],
      "execution_count": 0,
      "outputs": []
    },
    {
      "cell_type": "code",
      "metadata": {
        "id": "5clbVpnJyEm2",
        "colab_type": "code",
        "colab": {}
      },
      "source": [
        "N = 1000\n",
        "beta = 1.0  # infected person infects 1 other person per day\n",
        "D = 5.0 # infections lasts four days\n",
        "gamma = 1.0 / D\n",
        "\n",
        "S0, I0, R0 = 999, 1, 0  # initial conditions: one infected, rest susceptible"
      ],
      "execution_count": 0,
      "outputs": []
    },
    {
      "cell_type": "markdown",
      "metadata": {
        "id": "FLHPydMeyEm9",
        "colab_type": "text"
      },
      "source": [
        "Ahora aquí es donde ocurre la magia: obtenemos nuestros valores $S(t)$, $I(t)$ y $R(t)$ de la función `odeint` de `Python` que toma las fórmulas que definimos anteriormente, las condiciones iniciales y nuestras variables $N$, $\\beta$ y $\\gamma$, y calcula $S$, $I$ y $R$ para cada uno de los siguientes $50$ días."
      ]
    },
    {
      "cell_type": "code",
      "metadata": {
        "id": "gYS2p7i-yEm-",
        "colab_type": "code",
        "colab": {}
      },
      "source": [
        "t = np.linspace(0, 50, 50) # Grid of time points (in days)\n",
        "y0 = S0, I0, R0 # Initial conditions vector\n",
        "\n",
        "# Integrate the SIR equations over the time grid, t.\n",
        "ret = odeint(deriv, y0, t, args=(N, beta, gamma))\n",
        "S, I, R = ret.T"
      ],
      "execution_count": 0,
      "outputs": []
    },
    {
      "cell_type": "code",
      "metadata": {
        "id": "f22AzQULyEnD",
        "colab_type": "code",
        "outputId": "01c03662-958f-4a80-ffd0-96f1a4676717",
        "colab": {
          "base_uri": "https://localhost:8080/",
          "height": 276
        }
      },
      "source": [
        "plotsir(t, S, I, R)"
      ],
      "execution_count": 0,
      "outputs": [
        {
          "output_type": "display_data",
          "data": {
            "image/png": "[encoded data removed]",
            "text/plain": [
              "<Figure size 720x288 with 1 Axes>"
            ]
          },
          "metadata": {
            "tags": [],
            "needs_background": "light"
          }
        }
      ]
    },
    {
      "cell_type": "markdown",
      "metadata": {
        "id": "2-KPBGP5yEnG",
        "colab_type": "text"
      },
      "source": [
        "Como puede ver, solo toma poco más de  $10$ días para que casi una población completa de $1000$ personas se infecte. Por supuesto, la enfermedad modelada aquí tiene un valor $R_0$ muy alto de $5.0$. Simplemente cambiando el número de personas que una persona infectada infecta por día $\\beta$ a $0.5$ resulta en un escenario completamente diferente:"
      ]
    },
    {
      "cell_type": "code",
      "metadata": {
        "id": "RVfHEl9ZyEnG",
        "colab_type": "code",
        "colab": {}
      },
      "source": [
        "N = 1000\n",
        "beta = 0.50  # infected person infects 1 other person per day\n",
        "D = 5.0 # infections lasts four days\n",
        "gamma = 1.0 / D\n",
        "\n",
        "S0, I0, R0 = 999, 1, 0  # initial conditions: one infected, rest susceptible"
      ],
      "execution_count": 0,
      "outputs": []
    },
    {
      "cell_type": "code",
      "metadata": {
        "id": "d77iWvVRyEnL",
        "colab_type": "code",
        "colab": {}
      },
      "source": [
        "t = np.linspace(0, 50, 50) # Grid of time points (in days)\n",
        "y0 = S0, I0, R0 # Initial conditions vector\n",
        "\n",
        "# Integrate the SIR equations over the time grid, t.\n",
        "ret = odeint(deriv, y0, t, args=(N, beta, gamma))\n",
        "S, I, R = ret.T"
      ],
      "execution_count": 0,
      "outputs": []
    },
    {
      "cell_type": "code",
      "metadata": {
        "id": "N9fgwVngyEnN",
        "colab_type": "code",
        "outputId": "77dd7e17-3130-4fba-db41-353d6fea18f1",
        "colab": {
          "base_uri": "https://localhost:8080/",
          "height": 276
        }
      },
      "source": [
        "plotsir(t, S, I, R)"
      ],
      "execution_count": 0,
      "outputs": [
        {
          "output_type": "display_data",
          "data": {
            "image/png": "[encoded data removed]",
            "text/plain": [
              "<Figure size 720x288 with 1 Axes>"
            ]
          },
          "metadata": {
            "tags": [],
            "needs_background": "light"
          }
        }
      ]
    },
    {
      "cell_type": "markdown",
      "metadata": {
        "id": "GKKFVQMxyEnP",
        "colab_type": "text"
      },
      "source": [
        "Como puede ver, estos sistemas de EDO son extremadamente sensibles a los parámetros iniciales. Esa es también la razón por la cual es tan difícil modelar correctamente un brote emergente de una nueva enfermedad: simplemente no sabemos cuáles son los parámetros, e incluso los cambios leves producen resultados muy diferentes."
      ]
    },
    {
      "cell_type": "markdown",
      "metadata": {
        "id": "Wa-nVWQ-yEnQ",
        "colab_type": "text"
      },
      "source": [
        "# Conclusiones\n",
        "\n",
        "El modelo S.I.R. modela simplificadamente la manera como se puede transmitir una enfermedad contagiosa en un grupo de personas, sin embargo, como en todo modelo, muchas son las inquietudes que surgen. Todo dependerá de los parámetros que se tienen en cuenta y la calidad de la información, datos, con que se cuente."
      ]
    },
    {
      "cell_type": "code",
      "metadata": {
        "id": "HlTo8vrdyEny",
        "colab_type": "code",
        "outputId": "8a144d8a-6b09-4a63-fe64-d2278cfd6bee",
        "colab": {
          "base_uri": "https://localhost:8080/",
          "height": 521
        }
      },
      "source": [
        "URL = 'https://www.geogebra.org/classic/q2avpqqy'\n",
        "IFrame(src = URL, width = 980, height = 500)"
      ],
      "execution_count": 0,
      "outputs": [
        {
          "output_type": "execute_result",
          "data": {
            "text/html": [
              "\n",
              "        <iframe\n",
              "            width=\"980\"\n",
              "            height=\"500\"\n",
              "            src=\"https://www.geogebra.org/classic/q2avpqqy\"\n",
              "            frameborder=\"0\"\n",
              "            allowfullscreen\n",
              "        ></iframe>\n",
              "        "
            ],
            "text/plain": [
              "<IPython.lib.display.IFrame at 0x7f3226976a90>"
            ]
          },
          "metadata": {
            "tags": []
          },
          "execution_count": 16
        }
      ]
    },
    {
      "cell_type": "code",
      "metadata": {
        "id": "5vl27epxaqXy",
        "colab_type": "code",
        "outputId": "3cf91e4d-7674-4bea-8887-c2df783cea77",
        "colab": {
          "base_uri": "https://localhost:8080/",
          "height": 521
        }
      },
      "source": [
        "URL = 'https://www.geogebra.org/classic/mxhj5ryw'\n",
        "IFrame(src = URL, width = 980, height = 500)"
      ],
      "execution_count": 0,
      "outputs": [
        {
          "output_type": "execute_result",
          "data": {
            "text/html": [
              "\n",
              "        <iframe\n",
              "            width=\"980\"\n",
              "            height=\"500\"\n",
              "            src=\"https://www.geogebra.org/classic/mxhj5ryw\"\n",
              "            frameborder=\"0\"\n",
              "            allowfullscreen\n",
              "        ></iframe>\n",
              "        "
            ],
            "text/plain": [
              "<IPython.lib.display.IFrame at 0x7f32269764a8>"
            ]
          },
          "metadata": {
            "tags": []
          },
          "execution_count": 18
        }
      ]
    },
    {
      "cell_type": "code",
      "metadata": {
        "id": "8t-NV9QYcD-n",
        "colab_type": "code",
        "outputId": "b8f4bbf7-c156-453a-8b3e-04939e2069ef",
        "colab": {
          "base_uri": "https://localhost:8080/",
          "height": 521
        }
      },
      "source": [
        "URL = 'https://www.geogebra.org/classic/yasmhuqf'\n",
        "IFrame(src = URL, width = 980, height = 500)"
      ],
      "execution_count": 0,
      "outputs": [
        {
          "output_type": "execute_result",
          "data": {
            "text/html": [
              "\n",
              "        <iframe\n",
              "            width=\"980\"\n",
              "            height=\"500\"\n",
              "            src=\"https://www.geogebra.org/classic/yasmhuqf\"\n",
              "            frameborder=\"0\"\n",
              "            allowfullscreen\n",
              "        ></iframe>\n",
              "        "
            ],
            "text/plain": [
              "<IPython.lib.display.IFrame at 0x7f32269761d0>"
            ]
          },
          "metadata": {
            "tags": []
          },
          "execution_count": 19
        }
      ]
    },
    {
      "cell_type": "markdown",
      "metadata": {
        "id": "iAV6-TZcyEnQ",
        "colab_type": "text"
      },
      "source": [
        "# *S.E.I.R*\n",
        "\n",
        "\n",
        "En la literatura existen otros modelos más completos, y complejos, como el SEIR, que es una extensión del S.I.R. y que considera, además de los parámetros vistos, otros como:\n",
        "\n",
        "- Un estado \"***Deceso***\" que contempla las personas que fallecen debido a la enfermedad.\n",
        "\n",
        "\n",
        "- Un estado \"***Expuesto***\" para individuos que han contraído la enfermedad pero que aún no son infecciosos (este es conocido como el modelo ***S.E.I.R.***)\n",
        "\n",
        "\n",
        "- Valores de $R_0$ dependientes del tiempo que nos permitirán modelar cuarentenas, bloqueos, ...\n",
        "\n",
        "\n",
        "- Tasas de mortalidad dependientes de los recursos y la edad que nos permitirán modelar hospitales superpoblados, poblaciones con muchos jóvenes, ...\n",
        "\n",
        "\n",
        "entre muchos otros posibles parámetros adicionales, que podrían complementar el modelo, pero lo harían mucho más complejo."
      ]
    },
    {
      "cell_type": "markdown",
      "metadata": {
        "id": "tGfZWHALyEnR",
        "colab_type": "text"
      },
      "source": [
        "Al derivar las ecuaciones, ya las consideramos intuitivamente como \"*instrucciones*\" que nos dicen lo que le sucede a la población al día siguiente (por ejemplo, cuando $10$ personas están infectadas y la recuperación se produce a un ritmo de $\\gamma = 1/5$, entonces el número de individuos recuperados al día siguiente debería aumentar en $1/5 \\times 10 = 2$). Ahora solidificamos esta comprensión de las ecuaciones como \"*direcciones*\" o \"*transiciones*\" de un compartimento $S$, $I$ o $R$ a otro; esto simplificará enormemente las cosas cuando introduzcamos más compartimentos más adelante y las ecuaciones se vuelvan confusas."
      ]
    },
    {
      "cell_type": "markdown",
      "metadata": {
        "id": "dST3Qd8UyEnR",
        "colab_type": "text"
      },
      "source": [
        "## Definiciones\n",
        "\n",
        "Los *compartimientos* son cajas, que denotan \"*estados*\", como este:\n",
        "\n",
        "<p float=\"center\">\n",
        "  <img src=https://miro.medium.com/max/275/1*hJPP0FLd-92bV16JPU0_-g.png width=\"250\" />\n",
        "</p>\n",
        "\n",
        "Las *transiciones* de un compartimento a otro se representan mediante flechas, con el siguiente etiquetado:\n",
        "\n",
        "<p float=\"center\">\n",
        "  <img src=https://miro.medium.com/max/920/1*5caEXgP-6ZG7HkrPECKAEA.png width=\"500\" />\n",
        "</p>\n",
        "\n",
        "La *tasa* describe cuánto tiempo dura la transición, la *población* es el grupo de individuos a los que se aplica esta transición, y la *probabilidad* es la probabilidad de que la transición tenga lugar para un individuo."
      ]
    },
    {
      "cell_type": "markdown",
      "metadata": {
        "id": "Ko_9Kro2yEnS",
        "colab_type": "text"
      },
      "source": [
        "### Ejemplo\n",
        "\n",
        "Supongamos la transición de *Susceptibles* a *Infectados* en las ecuaciones $S.I.R.$, con $\\beta=2$, una población total de $100$, $10$ infectados y $90$ susceptibles. La tasa es $1$, ya que las infecciones ocurren de inmediato; la población a la que se aplica la transición es $2 \\times 10 = 20$ individuos, ya que los $10$ infectados infectan a $2$ personas; la probabilidad es del $90\\%$, ya que $90/100$ personas aún pueden estar infectadas. Corresponde a esta notación intuitiva:\n",
        "\n",
        "<p float=\"center\">\n",
        "  <img src=https://miro.medium.com/max/1222/1*We4K9njCiEMowVuran4mWA.png width=\"350\" />\n",
        "</p>\n"
      ]
    },
    {
      "cell_type": "markdown",
      "metadata": {
        "id": "zcTa-Oo6yEnS",
        "colab_type": "text"
      },
      "source": [
        "De forma más general, para todo el modelo (para $I \\rightarrow R$, la *tasa* es $\\gamma$ y la probabilidad es $1$ a medida que todos se recuperarán)\n",
        "\n",
        "<p float=\"center\">\n",
        "  <img src=https://miro.medium.com/max/1400/1*NNO-CdlCZORoPYtllW343A.png width=\"750\" />\n",
        "</p>\n",
        "\n",
        "Como puede verse, las flechas que apuntan hacia un compartimento se agregan en la ecuación; las flechas que apuntan lejos de un compartimento se restan. Es una forma gráfica de presentar las ecuaciones determinadas arriba.\n",
        "\n",
        "$$\n",
        "\\begin{align}\n",
        "\\frac{dS}{dt} & = -\\beta \\cdot I \\cdot \\frac{S}{N} \\\\\n",
        "\\frac{dI}{dt} & = \\beta \\cdot I \\cdot \\frac{S}{N} - \\gamma \\cdot I \\\\\n",
        "\\frac{dR}{dt} & = \\gamma \\cdot I\n",
        "\\end{align}\n",
        "$$"
      ]
    },
    {
      "cell_type": "markdown",
      "metadata": {
        "id": "OpGh5FZ7yEnT",
        "colab_type": "text"
      },
      "source": [
        "Aunque ya tengamos un mejor entendimiento del modelo $S.I.R.$, e incluso se haya codificado en un lenguaje de programación como `python`, los resultados obtenidos no representan muy bien la realidad, y por ahora no deja de ser un simple \"juguete\" interesante. \n",
        "\n",
        "Vamos a tratar de \"mejorar\" este modelo básico incluyendo otros \"compartimientos\""
      ]
    },
    {
      "cell_type": "markdown",
      "metadata": {
        "id": "kY6EEgKLyEnT",
        "colab_type": "text"
      },
      "source": [
        "# Introduciendo nuevos Compartimientos"
      ]
    },
    {
      "cell_type": "markdown",
      "metadata": {
        "id": "rixIaBO1yEnU",
        "colab_type": "text"
      },
      "source": [
        "## Obteniendo el compartimiento de *Expuestos*\n",
        "\n",
        "Muchas enfermedades infecciosas tienen un período de incubación antes de ser infecciosas durante el cual el huésped aún no puede transmitir la enfermedad. Llamaremos a tales individuos, y a todo el compartimento, *expuestos*.\n",
        "\n",
        "Intuitivamente, tendremos transiciones de la forma $S \\rightarrow E \\rightarrow I \\rightarrow R$: las personas susceptibles pueden contraer el virus y así quedar expuestos, luego infectados y luego recuperados. La nueva transición $S \\rightarrow E$ tendrá la misma flecha que la transición $S \\rightarrow I$ actual, ya que la probabilidad es la misma (todos los *susceptibles* pueden estar *expuestos*), la tasa es la misma (\"*exposición*\" ocurre inmediatamente) y la población es igual (los individuos infecciosos pueden propagar la enfermedad y cada uno expone a $\\beta$ nuevos individuos por día). Tampoco hay razón para que la transición de $I$ a $R$ cambie. La única nueva transición es la de $E$ a $I$: la probabilidad es $1$ (todos los que están expuestos se infectan), la población es $E$ (todos los expuestos se infectarán) y la tasa obtiene una nueva variable, $\\delta$(delta). Llegamos a estas transiciones:\n",
        "\n",
        "<p float=\"left\">\n",
        "  <img src=https://miro.medium.com/max/1400/1*B-HZLpVWEgAZ3iloHBJjCA.png width=\"750\" />\n",
        "</p>\n",
        "\n"
      ]
    },
    {
      "cell_type": "markdown",
      "metadata": {
        "id": "lmKJxFPiyEnU",
        "colab_type": "text"
      },
      "source": [
        "De estas transiciones, podemos derivar inmediatamente las nuevas ecuaciones:\n",
        "\n",
        "$$\n",
        "\\begin{align}\n",
        "\\frac{dS}{dt} & = -\\beta \\cdot I \\cdot \\frac{S}{N} \\\\\n",
        "\\frac{dE}{dt} & = \\beta \\cdot I \\cdot \\frac{S}{N} - \\delta \\cdot E\\\\\n",
        "\\frac{dI}{dt} & = \\delta \\cdot E - \\gamma \\cdot I \\\\\n",
        "\\frac{dR}{dt} & = \\gamma \\cdot I\n",
        "\\end{align}\n",
        "$$"
      ]
    },
    {
      "cell_type": "markdown",
      "metadata": {
        "id": "1atVql10yEnV",
        "colab_type": "text"
      },
      "source": [
        "## Programando el compartimiento de *Expuestos*\n",
        "\n",
        "Retomando el código realizado antes y cambiando algunas líneas para adicionarle los nuevos compartimientos. Como ejemplo se modelará una enfermedad altamente infecciosa, $R_0=5.0$ en una población de $1$ millón, con un periodo de incubación de $5$ días y una recuperación de $7$ días."
      ]
    },
    {
      "cell_type": "code",
      "metadata": {
        "id": "Gk4YpgIdyEnV",
        "colab_type": "code",
        "colab": {}
      },
      "source": [
        "def plotsir(t, S, E, I, R):\n",
        "    f, ax = plt.subplots(1,1,figsize=(10,4))\n",
        "    ax.plot(t, S, 'b', alpha=0.7, linewidth=2, label='Susceptible')\n",
        "    ax.plot(t, E, 'y', alpha=0.7, linewidth=2, label='Expuesto')\n",
        "    ax.plot(t, I, 'r', alpha=0.7, linewidth=2, label='Infectado')\n",
        "    ax.plot(t, R, 'g', alpha=0.7, linewidth=2, label='Recuperado')\n",
        "    \n",
        "    ax.set_xlabel('Tiempo (dias)')\n",
        "    ax.set_ylabel('Población (habitantes)')\n",
        "    \n",
        "    ax.yaxis.set_tick_params(length=0)\n",
        "    ax.xaxis.set_tick_params(length=0)\n",
        "    ax.grid(b=True, which='major', c='w', lw=2, ls='-')\n",
        "    legend = ax.legend()\n",
        "    legend.get_frame().set_alpha(0.5)\n",
        "    for spine in ('top', 'right', 'bottom', 'left'):\n",
        "        ax.spines[spine].set_visible(False)\n",
        "    plt.show();"
      ],
      "execution_count": 0,
      "outputs": []
    },
    {
      "cell_type": "markdown",
      "metadata": {
        "id": "bcSvwAqvyEnY",
        "colab_type": "text"
      },
      "source": [
        "Función para determinar las derivadas de las funciones"
      ]
    },
    {
      "cell_type": "code",
      "metadata": {
        "id": "jelmQueHyEnZ",
        "colab_type": "code",
        "colab": {}
      },
      "source": [
        "def deriv(y, t, N, beta, gamma, delta):\n",
        "    S, E, I, R = y\n",
        "    dSdt = -beta * S * I / N\n",
        "    dEdt = beta * S * I / N - delta * E\n",
        "    dIdt = delta * E - gamma * I\n",
        "    dRdt = gamma * I\n",
        "    return dSdt, dEdt, dIdt, dRdt"
      ],
      "execution_count": 0,
      "outputs": []
    },
    {
      "cell_type": "markdown",
      "metadata": {
        "id": "qg8BmQtWyEnb",
        "colab_type": "text"
      },
      "source": [
        "Determinación de los valores iniciales"
      ]
    },
    {
      "cell_type": "code",
      "metadata": {
        "id": "StU3Geo4yEnc",
        "colab_type": "code",
        "colab": {}
      },
      "source": [
        "N = 1000000\n",
        "D = 4.0 # infections lasts four days\n",
        "gamma = 1.0 / D\n",
        "delta = 1.0 / 5.0  # incubation period of three days\n",
        "R_0 = 5.0\n",
        "beta = R_0 * gamma # infected person infects 1 other person per day\n",
        "\n",
        "S0, E0, I0, R0 = N-1, 1, 0, 0  # initial conditions: one exposed"
      ],
      "execution_count": 0,
      "outputs": []
    },
    {
      "cell_type": "markdown",
      "metadata": {
        "id": "vZoDEiXoyEne",
        "colab_type": "text"
      },
      "source": [
        "Cálculo de $S,E,I$ y $R$ para todo el tiempo de simulación (100 días)"
      ]
    },
    {
      "cell_type": "code",
      "metadata": {
        "id": "szBNFRccyEnf",
        "colab_type": "code",
        "colab": {}
      },
      "source": [
        "t = np.linspace(0, 100, 100) # Grid of time points (in days)\n",
        "y0 = S0, E0, I0, R0 # Initial conditions vector\n",
        "\n",
        "# Integrate the SIR equations over the time grid, t.\n",
        "ret = odeint(deriv, y0, t, args=(N, beta, gamma, delta))\n",
        "S, E, I, R = ret.T"
      ],
      "execution_count": 0,
      "outputs": []
    },
    {
      "cell_type": "code",
      "metadata": {
        "id": "Cqkjsy9OyEnh",
        "colab_type": "code",
        "outputId": "93f8ed69-1c11-4987-f9bb-625dc00dbb00",
        "colab": {}
      },
      "source": [
        "plotsir(t, S, E, I, R)"
      ],
      "execution_count": 0,
      "outputs": [
        {
          "output_type": "display_data",
          "data": {
            "image/png": "[encoded data removed]",
            "text/plain": [
              "<Figure size 720x288 with 1 Axes>"
            ]
          },
          "metadata": {
            "tags": [],
            "needs_background": "light"
          }
        }
      ]
    },
    {
      "cell_type": "markdown",
      "metadata": {
        "id": "2euic6ZCyEnj",
        "colab_type": "text"
      },
      "source": [
        "Cada vez tiene mejor cara... pero aún falta lo más cruel de todo, representar los posibles decesos. "
      ]
    },
    {
      "cell_type": "markdown",
      "metadata": {
        "id": "JX5lQ2n2yEnj",
        "colab_type": "text"
      },
      "source": [
        "## Obteniendo el compartimiento de \"*Decesos*\"\n",
        "\n",
        "Recordemos el modelo $S.E.I.R.$\n",
        "\n",
        "<p float=\"left\">\n",
        "  <img src=https://miro.medium.com/max/1000/1*B-HZLpVWEgAZ3iloHBJjCA.png width=\"500\" />\n",
        "</p>\n",
        "\n",
        "¿Cuándo puede morir una persona por la enfermedad? ¡Sólo mientras esté infectado!, esto significa que hay qué agregar una transición $I \\rightarrow D$. \n",
        "\n",
        "\n",
        "Por supuesto, las personas no mueren de inmediato; Definimos una nueva variable $\\rho$(rho) para la tasa a la que las personas mueren (por ejemplo, cuando tarda $6$ días en morir, $\\rho=1/6$). No hay razón para que la tasa de recuperación, $\\gamma$, cambie. Entonces, nuestro nuevo modelo se verá:\n",
        "\n",
        "<p float=\"left\">\n",
        "  <img src=https://miro.medium.com/max/1400/1*67WEZSCZ70oMs5TKKvvfJg.png width=\"500\" />\n",
        "</p>\n",
        "\n",
        "Lo único que falta son las probabilidades de pasar de infectado a recuperado y de infectado a muerto. Esa será una variable más (¡la última por ahora!), La tasa de mortalidad $\\alpha$. Por ejemplo, si $\\alpha= 5\\%$, $\\rho = 1$ y $\\gamma=1$ (por lo que las personas mueren o se recuperan en $1$ día, eso es un ejemplo más fácil) y $100$ personas están infectadas, entonces $5\\% \\times 100 = 5$ personas morirán. Eso deja $95\\% \\times 100 = 95$ personas en recuperación. En resumen, la probabilidad de $I \\rightarrow D$ es $\\alpha$ y, por lo tanto, la probabilidad de $I \\rightarrow R$ es $1-\\alpha$. Finalmente llegamos a este modelo:\n",
        "\n",
        "<p float=\"left\">\n",
        "  <img src=https://miro.medium.com/max/1400/1*TIZaRpt70TR1RFtf2dmlew.png width=\"500\" />\n",
        "</p>"
      ]
    },
    {
      "cell_type": "markdown",
      "metadata": {
        "id": "zPGLd3ozyEnl",
        "colab_type": "text"
      },
      "source": [
        "Adicionando esta nueva ecuación al conjunto que teníamos de antes:\n",
        "\n",
        "$$\n",
        "\\begin{align}\n",
        "\\frac{dS}{dt} & = -\\beta \\cdot I \\cdot \\frac{S}{N} \\\\\n",
        "\\frac{dE}{dt} & = \\beta \\cdot I \\cdot \\frac{S}{N} - \\delta \\cdot E\\\\\n",
        "\\frac{dI}{dt} & = \\delta \\cdot E - (1-\\alpha) \\cdot \\gamma \\cdot I - \\alpha \\cdot \\rho \\cdot I\\\\\n",
        "\\frac{dR}{dt} & = (1-\\alpha) \\cdot \\gamma \\cdot I \\\\\n",
        "\\frac{dD}{dt} & = \\alpha \\cdot \\rho \\cdot I\n",
        "\\end{align}\n",
        "$$"
      ]
    },
    {
      "cell_type": "markdown",
      "metadata": {
        "id": "kXsG4cxDyEnl",
        "colab_type": "text"
      },
      "source": [
        "## Programando el compartimiento de *Decesos*\n",
        "\n",
        "Modificando el código que venimos trayendo para incluir los decesos. Solo es necesario realizar algunos cambios menores, como es incluir $\\alpha=20\\%$ y $\\rho=1/9$:"
      ]
    },
    {
      "cell_type": "code",
      "metadata": {
        "id": "P2rutcatyEnl",
        "colab_type": "code",
        "colab": {}
      },
      "source": [
        "def deriv(y, t, N, beta, gamma, delta, alpha, rho):\n",
        "    S, E, I, R, D = y\n",
        "    dSdt = -beta * S * I / N\n",
        "    dEdt = beta * S * I / N - delta * E\n",
        "    dIdt = delta * E - (1 - alpha) * gamma * I - alpha * rho * I\n",
        "    dRdt = (1 - alpha) * gamma * I\n",
        "    dDdt = alpha * rho * I\n",
        "    return dSdt, dEdt, dIdt, dRdt, dDdt"
      ],
      "execution_count": 0,
      "outputs": []
    },
    {
      "cell_type": "code",
      "metadata": {
        "id": "yaZHyySHyEnn",
        "colab_type": "code",
        "colab": {}
      },
      "source": [
        "D = 4.0 # infections lasts four days\n",
        "gamma = 1.0 / D\n",
        "delta = 1.0 / 5.0  # incubation period of five days\n",
        "R_0 = 5.0\n",
        "beta = R_0 * gamma  # R_0 = beta / gamma, so beta = R_0 * gamma\n",
        "alpha = 0.2  # 10% death rate\n",
        "rho = 1/9  # 9 days from infection until death\n",
        "S0, E0, I0, R0, D0 = N-1, 1, 0, 0, 0  # initial conditions: one exposed"
      ],
      "execution_count": 0,
      "outputs": []
    },
    {
      "cell_type": "code",
      "metadata": {
        "id": "NEoyuaF7yEnr",
        "colab_type": "code",
        "colab": {}
      },
      "source": [
        "t = np.linspace(0, 100, 100) # Grid of time points (in days)\n",
        "y0 = S0, E0, I0, R0, D0 # Initial conditions vector\n",
        "\n",
        "# Integrate the SIR equations over the time grid, t.\n",
        "ret = odeint(deriv, y0, t, args=(N, beta, gamma, delta, alpha, rho))\n",
        "S, E, I, R, D = ret.T"
      ],
      "execution_count": 0,
      "outputs": []
    },
    {
      "cell_type": "code",
      "metadata": {
        "id": "rqjOvpI4yEnt",
        "colab_type": "code",
        "colab": {}
      },
      "source": [
        "def plotseird(t, S, E, I, R, D):\n",
        "    f, ax = plt.subplots(1,1,figsize=(10,4))\n",
        "    ax.plot(t, S, 'b', alpha=0.7, linewidth=2, label='Susceptible')\n",
        "    ax.plot(t, E, 'y', alpha=0.7, linewidth=2, label='Exposed')\n",
        "    ax.plot(t, I, 'r', alpha=0.7, linewidth=2, label='Infected')\n",
        "    ax.plot(t, R, 'g', alpha=0.7, linewidth=2, label='Recovered')\n",
        "    ax.plot(t, D, 'k', alpha=0.7, linewidth=2, label='Dead')\n",
        "    ax.plot(t, S+E+I+R+D, 'c--', alpha=0.7, linewidth=2, label='Total')\n",
        "\n",
        "    ax.set_xlabel('Time (days)')\n",
        "\n",
        "    ax.yaxis.set_tick_params(length=0)\n",
        "    ax.xaxis.set_tick_params(length=0)\n",
        "    ax.grid(b=True, which='major', c='w', lw=2, ls='-')\n",
        "    legend = ax.legend()\n",
        "    legend.get_frame().set_alpha(0.5)\n",
        "    for spine in ('top', 'right', 'bottom', 'left'):\n",
        "        ax.spines[spine].set_visible(False)\n",
        "    plt.show();"
      ],
      "execution_count": 0,
      "outputs": []
    },
    {
      "cell_type": "code",
      "metadata": {
        "id": "tVaXVjvoyEnv",
        "colab_type": "code",
        "outputId": "77f5b14a-656d-4c52-93b2-bd470e33b7e6",
        "colab": {}
      },
      "source": [
        "plotseird(t, S, E, I, R, D)"
      ],
      "execution_count": 0,
      "outputs": [
        {
          "output_type": "display_data",
          "data": {
            "image/png": "[encoded data removed]",
            "text/plain": [
              "<Figure size 720x288 with 1 Axes>"
            ]
          },
          "metadata": {
            "tags": [],
            "needs_background": "light"
          }
        }
      ]
    },
    {
      "cell_type": "markdown",
      "metadata": {
        "id": "dFnvsUDxyEnx",
        "colab_type": "text"
      },
      "source": [
        "Se adicionó una variable \"*total*\" que suma $S, E, I, R$ y $D$ para cada paso de tiempo como un \"*control de sanidad*\": los compartimentos siempre tienen que sumar $N$; Esto puede dar una pista sobre si las ecuaciones son correctas.\n",
        "\n",
        "Ya sabemos cómo ir agregando nuevos compartimentos al modelo: piense qué transiciones deben agregarse y cambiarse; pensar en las probabilidades, poblaciones y tasas de estas nuevas transiciones; dibuja el diagrama; y finalmente escribe las ecuaciones. ¡La codificación definitivamente no es la parte difícil para estos modelos!\n",
        "\n",
        "Por ejemplo, es posible que desee agregar un compartimento \"*UCI*\" para las personas infectadas que necesitan ir a una *UCI* (lo haremos en el próximo artículo). Piense desde qué compartimiento las personas pueden ir a la *UCI*, a dónde pueden ir después de la *UCI*, etc."
      ]
    },
    {
      "cell_type": "markdown",
      "metadata": {
        "id": "dTr7sOnkyEnx",
        "colab_type": "text"
      },
      "source": [
        "# Variables dependientes del tiempo\n",
        "\n",
        "Resumamos el listado de las variables empleadas hasta ahora:\n",
        "\n",
        "- $N$: población total\n",
        "\n",
        "\n",
        "- $S(t)$: número de personas susceptibles en el día $t$\n",
        "\n",
        "\n",
        "- $E(t)$: número de personas expuestas el día $t$\n",
        "\n",
        "\n",
        "- $I(t)$: número de personas infectadas el día $t$\n",
        "\n",
        "\n",
        "- $R(t)$: número de personas recuperadas el día $t$\n",
        "\n",
        "\n",
        "- $D(t)$: número de personas fallecidas el día $t$\n",
        "\n",
        "\n",
        "- $\\beta$: cantidad esperada de personas que una persona infectada infecta por día\n",
        "\n",
        "\n",
        "- $D$: número de días que una persona infectada tiene y puede transmitir la enfermedad\n",
        "\n",
        "\n",
        "- $\\gamma$: la proporción de infectados que se recuperan por día ($\\gamma = 1/D$)\n",
        "\n",
        "\n",
        "- $R_0$: el número total de personas que infecta una persona infectada ($R_0= \\beta / \\gamma$)\n",
        "\n",
        "\n",
        "- $\\delta$: duración del período de incubación\n",
        "\n",
        "\n",
        "- $\\alpha$: tasa de mortalidad\n",
        "\n",
        "\n",
        "- $\\rho$: tasa a la que muere la gente (= 1 / días desde la infección hasta la muerte)"
      ]
    },
    {
      "cell_type": "markdown",
      "metadata": {
        "id": "i4LOV7CnyEny",
        "colab_type": "text"
      },
      "source": [
        "Como puede ver, solo los compartimentos cambian con el tiempo (no son constantes). ¡Por supuesto, esto es muy poco realista! Como ejemplo, ¿por qué el valor $R_0$ debería ser constante? Seguramente, los bloqueos a nivel nacional reducen la cantidad de personas que infecta una persona infectada, ¡de eso se trata! Naturalmente, para acercarnos a modelar desarrollos del mundo real, tenemos que hacer que nuestras variables cambien con el tiempo.\n",
        "\n",
        "Esto hará parte de la continuación de este trabajo."
      ]
    },
    {
      "cell_type": "markdown",
      "metadata": {
        "id": "GGM84vVSUDdz",
        "colab_type": "text"
      },
      "source": [
        "# Muchas gracias por su atención!!!"
      ]
    }
  ]
}